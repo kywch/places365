{
 "cells": [
  {
   "cell_type": "code",
   "execution_count": 11,
   "metadata": {},
   "outputs": [
    {
     "name": "stdout",
     "output_type": "stream",
     "text": [
      "['bn', 'bnf_resnet50', 'bnz_resnet50', 'conv3x3', 'darknet_50', 'darknet_mini', 'darknet_mini2', 'darknet_mini3', 'darknet_small', 'dpn107', 'dpn131', 'dpn68', 'dpn92', 'dpn98', 'inceptionresnetv2', 'inceptionresnetv2_conc', 'inceptionv4', 'load', 'load_block17', 'load_block35', 'load_block8', 'load_conv2d', 'load_conv2d_nobn', 'load_linear', 'load_mixed_4a_7a', 'load_mixed_5', 'load_mixed_5b', 'load_mixed_6', 'load_mixed_6a', 'load_mixed_7', 'load_mixed_7a', 'pre_resnet101', 'pre_resnet152', 'pre_resnet18', 'pre_resnet34', 'pre_resnet50', 'resnet101', 'resnet152', 'resnet18', 'resnet34', 'resnet50', 'resnet50_3', 'resnext101', 'resnext152', 'resnext18', 'resnext34', 'resnext50', 'se_resnet_101', 'se_resnet_152', 'se_resnet_18', 'se_resnet_34', 'se_resnet_50', 'se_resnet_50_conc', 'se_resnext_101', 'se_resnext_152', 'se_resnext_50', 'test', 'test_block17', 'test_block35', 'test_block8', 'test_conv2d', 'test_conv2d_nobn', 'test_mixed_4a_7a', 'test_mixed_5b', 'test_mixed_6a', 'test_mixed_7a', 'w125_resnet50', 'w15_resnet50']\n"
     ]
    }
   ],
   "source": [
    "#available models\n",
    "\n",
    "import pytorch_models\n",
    "model_names = sorted(name for name in pytorch_models.__dict__\n",
    "                     if name.islower() and not name.startswith(\"__\")\n",
    "                     and callable(pytorch_models.__dict__[name]))\n",
    "\n",
    "print(model_names)"
   ]
  },
  {
   "cell_type": "code",
   "execution_count": 12,
   "metadata": {},
   "outputs": [],
   "source": [
    "# minimal parameters\n",
    "\n",
    "arch = \"resnet18\"\n",
    "\n",
    "job_name = \"resnet18_fp32\"\n",
    "\n",
    "save_dir = \"xlog_180502_\" + job_name"
   ]
  },
  {
   "cell_type": "code",
   "execution_count": 13,
   "metadata": {},
   "outputs": [
    {
     "name": "stdout",
     "output_type": "stream",
     "text": [
      "python train2.py data --save-dir xlog_180502_resnet18_fp32 -a resnet18 -b 128 --sz 256\n"
     ]
    }
   ],
   "source": [
    "extra = \" -b 128 --sz 256\"\n",
    "\n",
    "cmd = \"python train2.py data --save-dir \" + save_dir + \" -a \" + arch + extra\n",
    "\n",
    "print(cmd)"
   ]
  },
  {
   "cell_type": "code",
   "execution_count": 14,
   "metadata": {},
   "outputs": [
    {
     "name": "stdout",
     "output_type": "stream",
     "text": [
      "#!/bin/bash\n",
      "#SBATCH --job-name=train_resnet18_fp32\n",
      "#SBATCH --output=train_resnet18_fp32.sbatch_out\n",
      "#SBATCH --error=train_resnet18_fp32.sbatch_err\n",
      "#SBATCH --time=35:00:00\n",
      "#SBATCH --nodes=1\n",
      "#SBATCH --partition=gpu2\n",
      "#SBATCH --gres=gpu:1\n",
      "#SBATCH --ntasks-per-node=8\n",
      "#SBATCH --mem=32000\n",
      "\n",
      "module load cuda/9.0\n",
      "module load Anaconda3/5.0.1\n",
      "source activate fastai\n",
      "\n",
      "python train2.py data --save-dir xlog_180502_resnet18_fp32 -a resnet18 -b 128 --sz 256\n",
      "\n",
      "cp checkpoint.pth.tar xlog_180502_resnet18_fp32\n",
      "\n",
      "mv resnet18_fp32.sbatch xlog_180502_resnet18_fp32\n",
      "mv train_resnet18_fp32.sbatch_out xlog_180502_resnet18_fp32\n",
      "mv train_resnet18_fp32.sbatch_err xlog_180502_resnet18_fp32\n",
      "\n"
     ]
    }
   ],
   "source": [
    "%%bash -s \"{job_name}\" \"{cmd}\" \"{save_dir}\" \n",
    "echo \"#!/bin/bash\n",
    "#SBATCH --job-name=train_$1\n",
    "#SBATCH --output=train_$1.sbatch_out\n",
    "#SBATCH --error=train_$1.sbatch_err\n",
    "#SBATCH --time=35:00:00\n",
    "#SBATCH --nodes=1\n",
    "#SBATCH --partition=gpu2\n",
    "#SBATCH --gres=gpu:1\n",
    "#SBATCH --ntasks-per-node=8\n",
    "#SBATCH --mem=32000\n",
    "\n",
    "module load cuda/9.0\n",
    "module load Anaconda3/5.0.1\n",
    "source activate fastai\n",
    "\n",
    "$2\n",
    "\n",
    "cp checkpoint.pth.tar $3\n",
    "\n",
    "mv $1.sbatch $3\n",
    "mv train_$1.sbatch_out $3\n",
    "mv train_$1.sbatch_err $3\n",
    "\" > $1.sbatch\n",
    "\n",
    "cat $1.sbatch"
   ]
  },
  {
   "cell_type": "code",
   "execution_count": null,
   "metadata": {},
   "outputs": [],
   "source": []
  },
  {
   "cell_type": "code",
   "execution_count": 10,
   "metadata": {},
   "outputs": [
    {
     "data": {
      "text/plain": [
       "'003'"
      ]
     },
     "execution_count": 10,
     "metadata": {},
     "output_type": "execute_result"
    }
   ],
   "source": [
    "str(3).zfill(3)"
   ]
  },
  {
   "cell_type": "code",
   "execution_count": null,
   "metadata": {},
   "outputs": [],
   "source": []
  },
  {
   "cell_type": "code",
   "execution_count": null,
   "metadata": {},
   "outputs": [],
   "source": [
    "def get_parser():\n",
    "    parser = argparse.ArgumentParser(description='PyTorch ImageNet Training')\n",
    "    parser.add_argument('data', metavar='DIR',\n",
    "                        help='path to dataset')\n",
    "    parser.add_argument('--save-dir', type=str, default=Path.cwd(),\n",
    "                        help='Directory to save logs and models.')\n",
    "    parser.add_argument('--arch', '-a', metavar='ARCH', default='resnet18',\n",
    "                        choices=model_names,\n",
    "                        help='model architecture: ' +\n",
    "                        ' | '.join(model_names) +\n",
    "                        ' (default: resnet18)')\n",
    "    parser.add_argument('-j', '--workers', default=7, type=int, metavar='N',\n",
    "                        help='number of data loading workers (default: 7)')\n",
    "    parser.add_argument('--epochs', default=90, type=int, metavar='N',\n",
    "                        help='number of total epochs to run')\n",
    "    parser.add_argument('--start-epoch', default=0, type=int, metavar='N',\n",
    "                        help='manual epoch number (useful on restarts)')\n",
    "    parser.add_argument('-b', '--batch-size', default=256, type=int,\n",
    "                        metavar='N', help='mini-batch size (default: 256)')\n",
    "    parser.add_argument('--lr', '--learning-rate', default=0.1, type=float,\n",
    "                        metavar='LR', help='initial learning rate')\n",
    "    parser.add_argument('--momentum', default=0.9, type=float, metavar='M', help='momentum')\n",
    "    parser.add_argument('--weight-decay', '--wd', default=1e-4, type=float,\n",
    "                        metavar='W', help='weight decay (default: 1e-4)')\n",
    "    parser.add_argument('--print-freq', '-p', default=100, type=int,\n",
    "                        metavar='N', help='print frequency (default: 100)')\n",
    "    parser.add_argument('--resume', default='', type=str, metavar='PATH',\n",
    "                        help='path to latest checkpoint (default: none)')\n",
    "    parser.add_argument('-e', '--evaluate', dest='evaluate', action='store_true',\n",
    "                        help='evaluate model on validation set')\n",
    "    parser.add_argument('--pretrained', dest='pretrained', action='store_true', help='use pre-trained model')\n",
    "    parser.add_argument('--fp16', action='store_true', help='Run model fp16 mode.')\n",
    "    parser.add_argument('--dp', action='store_true', help='Run model fp16 mode.')\n",
    "    parser.add_argument('--sz',       default=224, type=int, help='Size of transformed image.')\n",
    "    parser.add_argument('--decay-int', default=30, type=int, help='Decay LR by 10 every decay-int epochs')\n",
    "    parser.add_argument('--loss-scale', type=float, default=1,\n",
    "                        help='Loss scaling, positive power of 2 values can improve fp16 convergence.')\n",
    "    parser.add_argument('--prof', dest='prof', action='store_true', help='Only run a few iters for profiling.')\n",
    "\n",
    "    parser.add_argument('--dist-url', default='file://sync.file', type=str,\n",
    "                        help='url used to set up distributed training')\n",
    "    parser.add_argument('--dist-backend', default='nccl', type=str, help='distributed backend')\n",
    "\n",
    "    parser.add_argument('--world-size', default=1, type=int,\n",
    "                        help='Number of GPUs to use. Can either be manually set ' +\n",
    "                        'or automatically set by using \\'python -m multiproc\\'.')\n",
    "    parser.add_argument('--rank', default=0, type=int,\n",
    "                        help='Used for multi-process training. Can either be manually set ' +\n",
    "                        'or automatically set by using \\'python -m multiproc\\'.')\n",
    "    \n",
    "def adjust_learning_rate(optimizer, epoch):\n",
    "    \"\"\"Sets the learning rate to the initial LR decayed by 10 every few epochs\"\"\"\n",
    "    if   epoch<4 : lr = args.lr/(4-epoch)\n",
    "    elif epoch<28: lr = args.lr/1\n",
    "    elif epoch<47: lr = args.lr/10\n",
    "    elif epoch<57: lr = args.lr/100\n",
    "    else         : lr = args.lr/1000\n",
    "    for param_group in optimizer.param_groups: param_group['lr'] = lr    "
   ]
  },
  {
   "cell_type": "code",
   "execution_count": null,
   "metadata": {},
   "outputs": [],
   "source": []
  },
  {
   "cell_type": "code",
   "execution_count": 40,
   "metadata": {},
   "outputs": [],
   "source": [
    "import pytorch_models\n",
    "model = pytorch_models.__dict__['resnet50'](pretrained=True)"
   ]
  },
  {
   "cell_type": "code",
   "execution_count": 38,
   "metadata": {},
   "outputs": [
    {
     "name": "stdout",
     "output_type": "stream",
     "text": [
      "<function resnet50_3 at 0x7f26201388c8>\n"
     ]
    }
   ],
   "source": [
    "print(model)"
   ]
  },
  {
   "cell_type": "code",
   "execution_count": null,
   "metadata": {},
   "outputs": [],
   "source": []
  }
 ],
 "metadata": {
  "kernelspec": {
   "display_name": "Python 3",
   "language": "python",
   "name": "python3"
  },
  "language_info": {
   "codemirror_mode": {
    "name": "ipython",
    "version": 3
   },
   "file_extension": ".py",
   "mimetype": "text/x-python",
   "name": "python",
   "nbconvert_exporter": "python",
   "pygments_lexer": "ipython3",
   "version": "3.6.5"
  }
 },
 "nbformat": 4,
 "nbformat_minor": 2
}
